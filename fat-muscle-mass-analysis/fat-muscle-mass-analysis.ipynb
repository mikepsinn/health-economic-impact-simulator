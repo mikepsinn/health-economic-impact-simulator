{
   "cells": [
    {
     "cell_type": "markdown",
     "metadata": {},
     "source": [
      "# Economic & Health Benefits Model\n",
      "\n",
      "### Jupyter Notebook\n",
      "This notebook provides a hypothetical model estimating the potential economic and health benefits of an intervention that reduces fat mass by 2 lb and increases muscle mass by 2 lb.\n",
      "\n",
      "## 1. Introduction\n",
      "In this illustrative scenario, we assume:\n",
      "- The intervention costs \\(\\$500\\) per person per year.\n",
      "- It reduces obesity-related healthcare costs by a modest percentage (5% to 10%) of obesity-attributable expenses.\n",
      "- We also consider Quality-Adjusted Life Year (QALY) improvements.\n",
      "\n",
      "We'll calculate **per-person** net cost savings (or cost increases) and then scale it up to **Medicare** (\\(\\approx 65\\) million beneficiaries) and the **total U.S.** population (\\(\\approx 330\\) million), assuming a 50% adoption rate. Finally, we include a basic sensitivity analysis.\n"
     ]
    },
    {
     "cell_type": "markdown",
     "metadata": {},
     "source": [
      "## 2. Parameter Definitions\n",
      "Below are the main parameters used in the model:\n",
      "\n",
      "| **Parameter**                                  | **Symbol**         | **Default Value**          | **Notes**                                             |\n",
      "|:----------------------------------------------:|:------------------:|:--------------------------:|:------------------------------------------------------|\n",
      "| Average annual total healthcare cost           | \\(C_{base}\\)      | \\(\\$6{,}000\\)              | Baseline yearly healthcare spending per adult         |\n",
      "| Fraction of costs related to obesity           | \\(p_{ob}\\)        | 0.20 (20%)                 | Portion of \\(C_{base}\\) linked to overweight/obesity |\n",
      "| Relative reduction in obesity-related costs    | \\(\\delta\\)       | Range (0.05 – 0.10)        | Fractional decrease in obesity costs due to the intervention |\n",
      "| Cost of therapy (annual)                       | \\(C_{therapy}\\)   | \\(\\$500\\)                  | Intervention cost per person per year                |\n",
      "| QALY improvement per year                      | \\(\\Delta Q\\)     | 0.01 QALYs/yr             | Incremental gain in quality of life                  |\n",
      "| Value of one QALY                              | \\(V_{QALY}\\)      | \\(\\$100{,}000\\)            | Conventional midpoint for cost-effectiveness         |\n",
      "| Medicare beneficiaries (approx.)               | \\(N_{M}\\)         | 65 million                | For population-level estimates                        |\n",
      "| US population (approx.)                        | \\(N_{US}\\)        | 330 million               | For population-level estimates                        |\n",
      "| Adoption rate                                  | \\(\\rho\\)         | 0.50 (50%)                 | Fraction of the target population receiving therapy  |\n",
      "| Discount rate (for multi-year analysis)        | \\(r\\)            | 3% (0.03)                 | Annual discount rate for Net Present Value           |\n",
      "| Time horizon                                   | \\(T\\)            | 5 years                   | Example duration to evaluate cost savings            |\n"
     ]
    },
    {
     "cell_type": "code",
     "metadata": {
      "collapsed": false
     },
     "source": [
      "# Let's import any libraries we may need.\n",
      "import numpy as np\n",
      "\n",
      "# Define parameters\n",
      "C_base = 6000.0         # Baseline annual healthcare cost\n",
      "p_ob   = 0.20           # Fraction of costs attributable to obesity\n",
      "delta_low = 0.05        # Lower bound of cost reduction fraction\n",
      "delta_high = 0.10       # Upper bound of cost reduction fraction\n",
      "C_therapy = 500.0       # Therapy cost per year\n",
      "Delta_Q = 0.01          # QALY improvement per year\n",
      "V_QALY = 100000.0       # Value of one QALY\n",
      "N_M = 65e6              # Medicare population\n",
      "N_US = 330e6            # Total US population\n",
      "rho = 0.50              # Adoption rate\n",
      "r = 0.03                # Discount rate\n",
      "T = 5                   # Time horizon in years\n",
      "\n",
      "# Compute baseline obesity-related cost\n",
      "C_obesity = C_base * p_ob\n",
      "print(f\"Obesity-related annual healthcare cost: ${C_obesity:,.2f}\")\n",
      "\n",
      "# Function to compute annual net cost savings (without QALYs) per person\n",
      "def annual_net_savings(delta, C_obesity, C_therapy):\n",
      "    # delta = fraction reduction in obesity-related costs\n",
      "    cost_savings = C_obesity * delta   # annual cost savings from the intervention\n",
      "    net_savings = cost_savings - C_therapy\n",
      "    return net_savings\n",
      "\n",
      "# Compute for both low and high delta\n",
      "net_savings_low = annual_net_savings(delta_low, C_obesity, C_therapy)\n",
      "net_savings_high = annual_net_savings(delta_high, C_obesity, C_therapy)\n",
      "\n",
      "print(f\"\\nIf delta = {delta_low:.0%} => Net annual savings per person: ${net_savings_low:,.2f}\")\n",
      "print(f\"If delta = {delta_high:.0%} => Net annual savings per person: ${net_savings_high:,.2f}\")\n"
     ],
     "execution_count": null,
     "outputs": []
    },
    {
     "cell_type": "markdown",
     "metadata": {},
     "source": [
      "### Multi-Year Net Present Value (NPV)\n",
      "We can compute a simplified NPV of the annual net cash flows over 5 years.\n"
     ]
    },
    {
     "cell_type": "code",
     "metadata": {},
     "source": [
      "def npv_of_savings(net_savings, r, T):\n",
      "    # net_savings = net savings each year (constant)\n",
      "    # r = discount rate\n",
      "    # T = time horizon in years\n",
      "    npv = 0.0\n",
      "    for t in range(1, T+1):\n",
      "        npv += net_savings / ((1 + r)**t)\n",
      "    return npv\n",
      "\n",
      "npv_low = npv_of_savings(net_savings_low, r, T)\n",
      "npv_high = npv_of_savings(net_savings_high, r, T)\n",
      "\n",
      "print(f\"NPV over {T} years (delta={delta_low:.0%}): ${npv_low:,.2f}\")\n",
      "print(f\"NPV over {T} years (delta={delta_high:.0%}): ${npv_high:,.2f}\")\n"
     ],
     "execution_count": null,
     "outputs": []
    },
    {
     "cell_type": "markdown",
     "metadata": {},
     "source": [
      "### Accounting for QALYs\n",
      "\n",
      "If we factor in QALYs (Quality-Adjusted Life Years), the annual value gained per person is:\n",
      "\\[\n",
      "V_{QALY\\,annual} = \\Delta Q \\times V_{QALY}.\n",
      "\\]\n",
      "We'll add this amount to the direct cost offset each year."
     ]
    },
    {
     "cell_type": "code",
     "metadata": {},
     "source": [
      "def annual_net_with_qalys(delta, C_obesity, C_therapy, Delta_Q, V_QALY):\n",
      "    cost_savings = C_obesity * delta\n",
      "    qalys_value = Delta_Q * V_QALY\n",
      "    return cost_savings - C_therapy + qalys_value\n",
      "\n",
      "net_with_qalys_low = annual_net_with_qalys(delta_low, C_obesity, C_therapy, Delta_Q, V_QALY)\n",
      "net_with_qalys_high = annual_net_with_qalys(delta_high, C_obesity, C_therapy, Delta_Q, V_QALY)\n",
      "\n",
      "print(f\"Annual net benefit (delta={delta_low:.0%}) including QALYs: ${net_with_qalys_low:,.2f}\")\n",
      "print(f\"Annual net benefit (delta={delta_high:.0%}) including QALYs: ${net_with_qalys_high:,.2f}\")\n",
      "\n",
      "# Compute NPV of the scenario that includes QALY benefits\n",
      "npv_with_qalys_low = npv_of_savings(net_with_qalys_low, r, T)\n",
      "npv_with_qalys_high = npv_of_savings(net_with_qalys_high, r, T)\n",
      "\n",
      "print(f\"\\nNPV over {T} years (delta={delta_low:.0%}, with QALYs): ${npv_with_qalys_low:,.2f}\")\n",
      "print(f\"NPV over {T} years (delta={delta_high:.0%}, with QALYs): ${npv_with_qalys_high:,.2f}\")"
     ],
     "execution_count": null,
     "outputs": []
    },
    {
     "cell_type": "markdown",
     "metadata": {},
     "source": [
      "## 3. Population-Level Estimates\n",
      "Assume:\n",
      "- \\(N_M = 65\\) million Medicare beneficiaries\n",
      "- \\(N_{US} = 330\\) million total population\n",
      "- \\(\\rho = 50\\%\\) adoption rate\n"
     ]
    },
    {
     "cell_type": "code",
     "metadata": {},
     "source": [
      "# First, define a helper to compute total population-level net benefit\n",
      "def total_annual_benefit(net_savings_per_person, population, adoption_rate):\n",
      "    return net_savings_per_person * population * adoption_rate\n",
      "\n",
      "# Direct cost offset only (delta=0.10 for example)\n",
      "annual_savings_pop = total_annual_benefit(net_savings_high, N_M, rho)\n",
      "print(f\"Medicare Population (delta=10%, 50% adoption), Annual Direct Offset Only: ${annual_savings_pop/1e9:,.2f}B\")\n",
      "\n",
      "# Now including QALYs\n",
      "annual_with_qalys_pop = total_annual_benefit(net_with_qalys_high, N_M, rho)\n",
      "print(f\"Medicare Population (delta=10%, 50% adoption), Annual w/ QALYs: ${annual_with_qalys_pop/1e9:,.2f}B\")\n",
      "\n",
      "# Similarly for total US population\n",
      "annual_savings_pop_us = total_annual_benefit(net_savings_high, N_US, rho)\n",
      "annual_with_qalys_pop_us = total_annual_benefit(net_with_qalys_high, N_US, rho)\n",
      "\n",
      "print(f\"\\nUS Population (delta=10%, 50% adoption), Annual Direct Offset Only: ${annual_savings_pop_us/1e9:,.2f}B\")\n",
      "print(f\"US Population (delta=10%, 50% adoption), Annual w/ QALYs: ${annual_with_qalys_pop_us/1e9:,.2f}B\")"
     ],
     "execution_count": null,
     "outputs": []
    },
    {
     "cell_type": "markdown",
     "metadata": {},
     "source": [
      "## 4. Sensitivity Analysis\n",
      "Because results can vary dramatically with small changes in assumptions, it's helpful to loop over different values of \\(\\delta\\) and therapy cost, etc. Here is a simple example."
     ]
    },
    {
     "cell_type": "code",
     "metadata": {},
     "source": [
      "delta_values = [0.05, 0.10, 0.15, 0.20]\n",
      "therapy_costs = [200, 300, 500, 800]\n",
      "\n",
      "print(\"delta\\tC_therapy\\tNet_Savings\\tNet_w_QALYs\")\n",
      "for d in delta_values:\n",
      "    for c in therapy_costs:\n",
      "        ns = (C_obesity * d) - c\n",
      "        ns_q = (C_obesity * d) - c + (Delta_Q * V_QALY)\n",
      "        print(f\"{d*100:.0f}%\\t${c}\\t\\t${ns:,.2f}\\t\\t${ns_q:,.2f}\")"
     ],
     "execution_count": null,
     "outputs": []
    },
    {
     "cell_type": "markdown",
     "metadata": {},
     "source": [
      "### Discussion\n",
      "- Modifying assumptions about \\(\\delta\\), \\(C_{therapy}\\), or \\(\\Delta Q\\) drastically changes whether the intervention is cost-saving or cost-effective.\n",
      "- In real-world policy analysis, you'd also consider the **longer-term** impact on chronic disease incidence (like cardiovascular events, diabetes complications, etc.), which might yield **larger** cost savings than this simple 5%–10% assumption.\n",
      "- For coverage decisions in Medicare, factoring in QALYs often makes an intervention more favorable if the improvements in quality of life are consistent and well-documented.\n"
     ]
    },
    {
     "cell_type": "markdown",
     "metadata": {},
     "source": [
      "## 5. Conclusion\n",
      "This notebook demonstrates a simplified approach to evaluating the cost and health impact of an intervention aimed at improving body composition by \\(-2 lb\\) fat and \\(+2 lb\\) muscle. **Real-world data** would be needed to calibrate the parameters for more accurate projections of healthcare cost reductions and QALY improvements.\n",
      "\n",
      "---\n",
      "**Next Steps**:\n",
      "1. Conduct or reference **empirical studies** measuring changes in obesity-related outcomes for individuals receiving the intervention.\n",
      "2. Gather **longitudinal data** (5- to 10-year disease incidence) to refine discounting and time-horizon assumptions.\n",
      "3. Perform **robust sensitivity analyses** on therapy costs, adoption rates, and population-specific factors (e.g., age distribution, comorbidity prevalence)."
     ]
    }
   ],
   "metadata": {
    "kernelspec": {
     "display_name": "Python 3",
     "language": "python",
     "name": "python3"
    },
    "language_info": {
     "name": "python"
    }
   },
   "nbformat": 4,
   "nbformat_minor": 5
  }
  